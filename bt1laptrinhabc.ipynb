{
  "nbformat": 4,
  "nbformat_minor": 0,
  "metadata": {
    "colab": {
      "name": "bt1laptrinh.ipynb",
      "provenance": [],
      "authorship_tag": "ABX9TyPNOvjNglXGdhhpNs2A9np7",
      "include_colab_link": true
    },
    "kernelspec": {
      "name": "python3",
      "display_name": "Python 3"
    }
  },
  "cells": [
    {
      "cell_type": "markdown",
      "metadata": {
        "id": "view-in-github",
        "colab_type": "text"
      },
      "source": [
        "<a href=\"https://colab.research.google.com/github/tandat-1305/tandat_f1/blob/main/bt1laptrinhabc.ipynb\" target=\"_parent\"><img src=\"https://colab.research.google.com/assets/colab-badge.svg\" alt=\"Open In Colab\"/></a>"
      ]
    },
    {
      "cell_type": "code",
      "metadata": {
        "id": "_H18c24GppGJ",
        "outputId": "a9ba23a4-b160-41ae-cc34-606079512aa8",
        "colab": {
          "base_uri": "https://localhost:8080/",
          "height": 410
        }
      },
      "source": [
        "a = int(input(\"a = \"))\n",
        "b = int(input(\"b = \"))\n",
        "print(\"tong a va b: \" + str(a+b))\n",
        "print(\"tich a va b: \" + str(a*b))\n",
        "print(\"hieu a va b: \" + str(a-b))\n",
        "print(\"chia lay du a va b:\" + str(a%b))\n",
        "print(\"chia lay nguyen a va b:\" + str(a//b))\n",
        "a = float(input(\"a = \"))\n",
        "b = float(input(\"b = \"))\n",
        "print(\"tong a va b: \" + str(a+b))\n",
        "print(\"tich a va b: \" + str(a*b))\n",
        "print(\"hieu a va b: \" + str(a-b))\n",
        "print(\"thuong a va b:\" + str(a/b))\n",
        "a = float(input(\"a = \"))\n",
        "b = float(input(\"b = \"))\n",
        "print(\"a lon hoan hoac bang b\", a>=b )\n",
        "print(\"a be hon hoac bang b\", a<=b )\n",
        "print(\"a lon hon b\", a>b )\n",
        "print(\"a be hon b\", a<b )\n",
        "print(\"a khac b\", a!=b )\n",
        "a = input()\n",
        "print(a.lower())\n",
        "print(a.upper())"
      ],
      "execution_count": 8,
      "outputs": [
        {
          "output_type": "stream",
          "text": [
            "a = 10\n",
            "b = 4\n",
            "tong a va b: 14\n",
            "tich a va b: 40\n",
            "hieu a va b: 6\n",
            "chia lay du a va b:2\n",
            "chia lay nguyen a va b:2\n",
            "a = 2.4\n",
            "b = 2\n",
            "tong a va b: 4.4\n",
            "tich a va b: 4.8\n",
            "hieu a va b: 0.3999999999999999\n",
            "thuong a va b:1.2\n",
            "a = 5\n",
            "b = 3\n",
            "a lon hoan hoac bang b True\n",
            "a be hon hoac bang b False\n",
            "a lon hon b True\n",
            "a be hon b False\n",
            "a khac b True\n",
            "Huet\n",
            "huet\n",
            "HUET\n"
          ],
          "name": "stdout"
        }
      ]
    },
    {
      "cell_type": "code",
      "metadata": {
        "id": "jwwebkFXFXTw"
      },
      "source": [
        ""
      ],
      "execution_count": null,
      "outputs": []
    }
  ]
}