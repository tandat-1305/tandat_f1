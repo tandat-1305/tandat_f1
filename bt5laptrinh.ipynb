{
  "nbformat": 4,
  "nbformat_minor": 0,
  "metadata": {
    "colab": {
      "name": "bt5laptrinh.ipynb",
      "provenance": [],
      "authorship_tag": "ABX9TyP00LAH1+rglIlnVep0BKIg",
      "include_colab_link": true
    },
    "kernelspec": {
      "name": "python3",
      "display_name": "Python 3"
    }
  },
  "cells": [
    {
      "cell_type": "markdown",
      "metadata": {
        "id": "view-in-github",
        "colab_type": "text"
      },
      "source": [
        "<a href=\"https://colab.research.google.com/github/tandat-1305/tandat_f1/blob/main/bt5laptrinh.ipynb\" target=\"_parent\"><img src=\"https://colab.research.google.com/assets/colab-badge.svg\" alt=\"Open In Colab\"/></a>"
      ]
    },
    {
      "cell_type": "code",
      "metadata": {
        "id": "Ti64zoOp2LL8",
        "outputId": "1448ad68-8b51-4958-e28d-ec16128be6c7",
        "colab": {
          "base_uri": "https://localhost:8080/",
          "height": 68
        }
      },
      "source": [
        "a = input()\n",
        "print(a.lower())\n",
        "print(a.upper())\n"
      ],
      "execution_count": 2,
      "outputs": [
        {
          "output_type": "stream",
          "text": [
            "Huet\n",
            "huet\n",
            "HUET\n"
          ],
          "name": "stdout"
        }
      ]
    }
  ]
}