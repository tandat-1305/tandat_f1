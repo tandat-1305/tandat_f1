{
  "nbformat": 4,
  "nbformat_minor": 0,
  "metadata": {
    "colab": {
      "name": "bt1laptrinh.ipynb",
      "provenance": [],
      "authorship_tag": "ABX9TyOoBoEl9Eanuc+MZy3krXct",
      "include_colab_link": true
    },
    "kernelspec": {
      "name": "python3",
      "display_name": "Python 3"
    }
  },
  "cells": [
    {
      "cell_type": "markdown",
      "metadata": {
        "id": "view-in-github",
        "colab_type": "text"
      },
      "source": [
        "<a href=\"https://colab.research.google.com/github/tandat-1305/tandat_f1/blob/main/bt1laptrinh.ipynb\" target=\"_parent\"><img src=\"https://colab.research.google.com/assets/colab-badge.svg\" alt=\"Open In Colab\"/></a>"
      ]
    },
    {
      "cell_type": "code",
      "metadata": {
        "id": "_H18c24GppGJ",
        "outputId": "bae48a7b-97f2-4e0e-b0a8-6fd36386b60f",
        "colab": {
          "base_uri": "https://localhost:8080/"
        }
      },
      "source": [
        "print(\"nhap a va b\")\n",
        "a = int(input())\n",
        "b = int(input())\n",
        "print(\"tong a va b: \" + str(a+b))\n",
        "print(\"tich a va b: \" + str(a*b))\n",
        "print(\"hieu a va b: \" + str(a-b))\n",
        "print(\"chia lay du a va b:\" + str(a%b))\n",
        "print(\"chia lay nguyen a va b:\" + str(a//b))\n",
        "\n",
        "\n",
        "\n",
        "\n"
      ],
      "execution_count": 25,
      "outputs": [
        {
          "output_type": "stream",
          "text": [
            "nhap a va b\n",
            "15\n",
            "3\n",
            "tong a va b: 18\n",
            "tich a va b: 45\n",
            "hieu a va b: 12\n",
            "chia lay du a va b:0\n",
            "chia lay nguyen a va b:5\n"
          ],
          "name": "stdout"
        }
      ]
    },
    {
      "cell_type": "code",
      "metadata": {
        "id": "jwwebkFXFXTw"
      },
      "source": [
        ""
      ],
      "execution_count": null,
      "outputs": []
    }
  ]
}