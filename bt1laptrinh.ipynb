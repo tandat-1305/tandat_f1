{
  "nbformat": 4,
  "nbformat_minor": 0,
  "metadata": {
    "colab": {
      "name": "bt1laptrinh.ipynb",
      "provenance": [],
      "authorship_tag": "ABX9TyNsdBh/CaYPEckgWTkzvHWV",
      "include_colab_link": true
    },
    "kernelspec": {
      "name": "python3",
      "display_name": "Python 3"
    }
  },
  "cells": [
    {
      "cell_type": "markdown",
      "metadata": {
        "id": "view-in-github",
        "colab_type": "text"
      },
      "source": [
        "<a href=\"https://colab.research.google.com/github/tandat-1305/tandat_f1/blob/main/bt1laptrinh.ipynb\" target=\"_parent\"><img src=\"https://colab.research.google.com/assets/colab-badge.svg\" alt=\"Open In Colab\"/></a>"
      ]
    },
    {
      "cell_type": "code",
      "metadata": {
        "id": "_H18c24GppGJ",
        "outputId": "3e3b7ee5-3d34-4863-8a3c-9f60a60b931f",
        "colab": {
          "base_uri": "https://localhost:8080/",
          "height": 136
        }
      },
      "source": [
        "a = int(input(\"a = \"))\n",
        "b = int(input(\"b = \"))\n",
        "print(\"tong a va b: \" + str(a+b))\n",
        "print(\"tich a va b: \" + str(a*b))\n",
        "print(\"hieu a va b: \" + str(a-b))\n",
        "print(\"chia lay du a va b:\" + str(a%b))\n",
        "print(\"chia lay nguyen a va b:\" + str(a//b))\n",
        "\n",
        "\n",
        "\n",
        "\n"
      ],
      "execution_count": 1,
      "outputs": [
        {
          "output_type": "stream",
          "text": [
            "a = 15\n",
            "b = 5\n",
            "tong a va b: 20\n",
            "tich a va b: 75\n",
            "hieu a va b: 10\n",
            "chia lay du a va b:0\n",
            "chia lay nguyen a va b:3\n"
          ],
          "name": "stdout"
        }
      ]
    },
    {
      "cell_type": "code",
      "metadata": {
        "id": "jwwebkFXFXTw"
      },
      "source": [
        ""
      ],
      "execution_count": null,
      "outputs": []
    }
  ]
}