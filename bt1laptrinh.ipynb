{
  "nbformat": 4,
  "nbformat_minor": 0,
  "metadata": {
    "colab": {
      "name": "bt1laptrinh.ipynb",
      "provenance": [],
      "authorship_tag": "ABX9TyM6u2/QHS6CSZVUlEtD8m/W",
      "include_colab_link": true
    },
    "kernelspec": {
      "name": "python3",
      "display_name": "Python 3"
    }
  },
  "cells": [
    {
      "cell_type": "markdown",
      "metadata": {
        "id": "view-in-github",
        "colab_type": "text"
      },
      "source": [
        "<a href=\"https://colab.research.google.com/github/tandat-1305/tandat_f1/blob/main/bt1laptrinh.ipynb\" target=\"_parent\"><img src=\"https://colab.research.google.com/assets/colab-badge.svg\" alt=\"Open In Colab\"/></a>"
      ]
    },
    {
      "cell_type": "code",
      "metadata": {
        "id": "_H18c24GppGJ",
        "outputId": "2717b3bf-99a4-46bd-e985-e71cf19bc1b6",
        "colab": {
          "base_uri": "https://localhost:8080/"
        }
      },
      "source": [
        "print(\"nhap a va b\")\n",
        " a = int(input())\n",
        " b = int(input())\n",
        "print(\"tong a va b: \" + str(a+b))\n",
        "print(\"tich a va b: \" + str(a*b))\n",
        "print(\"hieu a va b: \" + str(a-b))\n",
        "print(\"chia lay du a va b:\" + str(a%b))\n",
        "print(\"chia lay nguyen a va b:\" + str(a//b))\n",
        "\n",
        "\n",
        "\n",
        "\n"
      ],
      "execution_count": 20,
      "outputs": [
        {
          "output_type": "stream",
          "text": [
            "nhap a va b\n",
            "15\n",
            "5\n",
            "tong a va b: 20\n",
            "tich a va b: 75\n",
            "hieu a va b: 10\n",
            "chia lay du a va b:0\n",
            "chia lay nguyen a va b:3\n"
          ],
          "name": "stdout"
        }
      ]
    },
    {
      "cell_type": "code",
      "metadata": {
        "id": "jwwebkFXFXTw"
      },
      "source": [
        ""
      ],
      "execution_count": null,
      "outputs": []
    }
  ]
}