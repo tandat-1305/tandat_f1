{
  "nbformat": 4,
  "nbformat_minor": 0,
  "metadata": {
    "colab": {
      "name": "Untitled0.ipynb",
      "provenance": [],
      "authorship_tag": "ABX9TyNuQNDlRXS+nxSgTzdHGGV8",
      "include_colab_link": true
    },
    "kernelspec": {
      "name": "python3",
      "display_name": "Python 3"
    }
  },
  "cells": [
    {
      "cell_type": "markdown",
      "metadata": {
        "id": "view-in-github",
        "colab_type": "text"
      },
      "source": [
        "<a href=\"https://colab.research.google.com/github/tandat-1305/tandat_f1/blob/main/bt4laptrinh.ipynb\" target=\"_parent\"><img src=\"https://colab.research.google.com/assets/colab-badge.svg\" alt=\"Open In Colab\"/></a>"
      ]
    },
    {
      "cell_type": "code",
      "metadata": {
        "id": "_FmMavm4xGlI",
        "outputId": "e9c8603f-064d-4cf5-cd95-5dbbf4964710",
        "colab": {
          "base_uri": "https://localhost:8080/",
          "height": 136
        }
      },
      "source": [
        "a = float(input(\"a = \"))\n",
        "b = float(input(\"b = \"))\n",
        "print(\"a lon hoan hoac bang b\", a>=b )\n",
        "print(\"a be hon hoac bang b\", a<=b )\n",
        "print(\"a lon hon b\", a>b )\n",
        "print(\"a be hon b\", a<b )\n",
        "print(\"a khac b\", a!=b )\n",
        "\n",
        "\n"
      ],
      "execution_count": 12,
      "outputs": [
        {
          "output_type": "stream",
          "text": [
            "a = 15\n",
            "b = 10\n",
            "a lon hoan hoac bang b True\n",
            "a be hon hoac bang b False\n",
            "a lon hon b True\n",
            "a be hon b False\n",
            "a khac b True\n"
          ],
          "name": "stdout"
        }
      ]
    }
  ]
}