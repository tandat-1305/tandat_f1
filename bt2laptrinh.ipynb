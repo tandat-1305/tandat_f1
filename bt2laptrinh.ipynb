{
  "nbformat": 4,
  "nbformat_minor": 0,
  "metadata": {
    "colab": {
      "name": "bt2laptrinh.ipynb",
      "provenance": [],
      "authorship_tag": "ABX9TyPQG+zP4B5QgwAZLptoyjzi",
      "include_colab_link": true
    },
    "kernelspec": {
      "name": "python3",
      "display_name": "Python 3"
    }
  },
  "cells": [
    {
      "cell_type": "markdown",
      "metadata": {
        "id": "view-in-github",
        "colab_type": "text"
      },
      "source": [
        "<a href=\"https://colab.research.google.com/github/tandat-1305/tandat_f1/blob/main/bt2laptrinh.ipynb\" target=\"_parent\"><img src=\"https://colab.research.google.com/assets/colab-badge.svg\" alt=\"Open In Colab\"/></a>"
      ]
    },
    {
      "cell_type": "code",
      "metadata": {
        "id": "I9vGPcZhLRN6",
        "outputId": "38c1783a-d0f2-460e-c4da-f34f013eae55",
        "colab": {
          "base_uri": "https://localhost:8080/",
          "height": 119
        }
      },
      "source": [
        "a = float(input(\"a = \"))\n",
        "b = float(input(\"b = \"))\n",
        "print(\"tong a va b: \" + str(a+b))\n",
        "print(\"tich a va b: \" + str(a*b))\n",
        "print(\"hieu a va b: \" + str(a-b))\n",
        "print(\"thuong a va b:\" + str(a/b))"
      ],
      "execution_count": 7,
      "outputs": [
        {
          "output_type": "stream",
          "text": [
            "a = 5.8\n",
            "b = 4.2\n",
            "tong a va b: 10.0\n",
            "tich a va b: 24.36\n",
            "hieu a va b: 1.5999999999999996\n",
            "thuong a va b:1.380952380952381\n"
          ],
          "name": "stdout"
        }
      ]
    }
  ]
}